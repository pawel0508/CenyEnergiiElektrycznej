{
  "nbformat": 4,
  "nbformat_minor": 0,
  "metadata": {
    "colab": {
      "name": "Pobieranie_ofert.ipynb",
      "provenance": [],
      "include_colab_link": true
    },
    "kernelspec": {
      "name": "python3",
      "display_name": "Python 3"
    }
  },
  "cells": [
    {
      "cell_type": "markdown",
      "metadata": {
        "id": "view-in-github",
        "colab_type": "text"
      },
      "source": [
        "<a href=\"https://colab.research.google.com/github/pawel0508/CenyEnergiiElektrycznej/blob/main/Pobieranie_ofert.ipynb\" target=\"_parent\"><img src=\"https://colab.research.google.com/assets/colab-badge.svg\" alt=\"Open In Colab\"/></a>"
      ]
    },
    {
      "cell_type": "markdown",
      "metadata": {
        "id": "QpJl1N3hPJI_"
      },
      "source": [
        "### Wczytanie skryptu"
      ]
    },
    {
      "cell_type": "markdown",
      "metadata": {
        "id": "o5lSLZJoxdBI"
      },
      "source": [
        "Do środowiska colab należy wczytać skrypt **skryptclassof**, który odpowiada za pobieranie danych i ich wstępną analizę:\r\n",
        "1. W lewym panelu Colab jest ikona **Pliki** - należy ją wcisnąć i rozwinąć.\r\n",
        "2. Następnie wcisnąć ikonę **Prześlij do pamięci sesji**.\r\n",
        "3. Zaznaczyć plik **skryptclassof.py** i wczytać (dać ok, gdyby pliki z roszerzeniem .py były zasłonięte przy nazwie pliku ustawić na wszystkie pliki.\r\n",
        "4. Po wczytaniu można wcisnąć ikonę odśwież.\r\n",
        "5. Skrypt w poszczególnych komórkach najłatwiej uruchamiać wciskają pare klawiszy: **Shift+Enter**\r\n",
        "6. Zaimportować **skryptclassof**."
      ]
    },
    {
      "cell_type": "code",
      "metadata": {
        "id": "4y856buEzyGg"
      },
      "source": [
        "import skryptclassof as of"
      ],
      "execution_count": 2,
      "outputs": []
    },
    {
      "cell_type": "markdown",
      "metadata": {
        "id": "ZSObCGvkzGgH"
      },
      "source": [
        "W skrypcie jest klasa która służy do pobierania danych za pomocą odpowiednich funkcji oraz funkcje które 'obrabiają dane'. **Funkcje do pobierania danych** są zdefiniowane w sposób następujący: of.pobierz_*{nazwa_strony}*. Pobrane dane przypisane są do ramki danych (tabeli) których nazwa to df_*{nazwa_pośrednika}*. Pobrane dane są umieszczane w funkcji tabela_BARN, która buduje przetworzoną ramkę danych z danymi po obróbce o nazwie barn_*{posrednik}*. Ramka ta jest zapisywana do pliku excel. Zapisany plik pojawia się w tym samym panelu w którym został umieszczony **skryptclassof.py**. Aby je pobrać należy najechać na plik, rozwinąć trzykropek i wcisnąć pobierz. Dane mogą mieć w 1. kolumnie indeksy, a zatem w excelu trzeba je usunąć.\r\n"
      ]
    },
    {
      "cell_type": "markdown",
      "metadata": {
        "id": "N9NJCS5oOI6m"
      },
      "source": [
        "### Pobieranie ofert od Petryla"
      ]
    },
    {
      "cell_type": "code",
      "metadata": {
        "id": "rlS27AKuz_Gb"
      },
      "source": [
        "df_petryla = of.pobierz_gratka()"
      ],
      "execution_count": null,
      "outputs": []
    },
    {
      "cell_type": "code",
      "metadata": {
        "id": "us0PlIC-LraO"
      },
      "source": [
        "barn_petryla = of.tabela_BARN(df = df_petryla, nr_zrodla = '12p19', status_oferty = 2)\r\n",
        "barn_petryla.to_excel('petryla_BARN.xlsx', index = False)"
      ],
      "execution_count": 5,
      "outputs": []
    },
    {
      "cell_type": "markdown",
      "metadata": {
        "id": "snrXIlc9OOjb"
      },
      "source": [
        "### Pobieranie ofert od Podgórze"
      ]
    },
    {
      "cell_type": "code",
      "metadata": {
        "id": "HMEo-aY6z_D1"
      },
      "source": [
        "df_podgorze = of.pobierz_gratka()"
      ],
      "execution_count": null,
      "outputs": []
    },
    {
      "cell_type": "code",
      "metadata": {
        "id": "kTFIsrZlMOXV"
      },
      "source": [
        "barn_podgorze = of.tabela_BARN(df = df_podgorze, nr_zrodla = '12p457', status_oferty = 2)\r\n",
        "barn_podgorze.to_excel('podgorze_BARN.xlsx', index = False)"
      ],
      "execution_count": 8,
      "outputs": []
    },
    {
      "cell_type": "markdown",
      "metadata": {
        "id": "DDECwNG-OVF2"
      },
      "source": [
        "### Pobieranie ofert od Neodom"
      ]
    },
    {
      "cell_type": "code",
      "metadata": {
        "id": "l0s4u_SbNTQy"
      },
      "source": [
        "df_neodom = of.pobierz_gratka()"
      ],
      "execution_count": null,
      "outputs": []
    },
    {
      "cell_type": "code",
      "metadata": {
        "id": "z-IrHrI3Lq0e"
      },
      "source": [
        "barn_neodom = of.tabela_BARN(df = df_neodom, nr_zrodla = '12p2795', status_oferty = 2)\r\n",
        "barn_neodom.to_excel('neodom_BARN.xlsx', index = False)"
      ],
      "execution_count": 10,
      "outputs": []
    },
    {
      "cell_type": "markdown",
      "metadata": {
        "id": "UwG5K09QOYKS"
      },
      "source": [
        "### Pobieranie ofert od Północ"
      ]
    },
    {
      "cell_type": "code",
      "metadata": {
        "id": "MKOSVxDKHp2e"
      },
      "source": [
        "df_polnoc = of.pobierz_gratka()"
      ],
      "execution_count": null,
      "outputs": []
    },
    {
      "cell_type": "code",
      "metadata": {
        "id": "7eWI4oK1OdAr"
      },
      "source": [
        "barn_polnoc = of.tabela_BARN(df = df_polnoc, nr_zrodla = '12p1', status_oferty = 2)\r\n",
        "barn_polnoc.to_excel('polnoc_BARN.xlsx', index = False)"
      ],
      "execution_count": 13,
      "outputs": []
    },
    {
      "cell_type": "markdown",
      "metadata": {
        "id": "K5IY4tAHObYe"
      },
      "source": [
        "### Pobieranie ofert od Metrohouse"
      ]
    },
    {
      "cell_type": "code",
      "metadata": {
        "id": "HxLhu5kyz_At"
      },
      "source": [
        "df_metrohouse = of.pobierz_metrohouse()"
      ],
      "execution_count": null,
      "outputs": []
    },
    {
      "cell_type": "code",
      "metadata": {
        "id": "JPdNWlhAS-4z"
      },
      "source": [
        "barn_metrohouse = of.tabela_BARN(df = df_metrohouse, nr_zrodla = '12p2247', status_oferty = 2)\r\n",
        "barn_metrohouse.to_excel('metrohouse_BARN.xlsx', index = False)"
      ],
      "execution_count": 15,
      "outputs": []
    },
    {
      "cell_type": "markdown",
      "metadata": {
        "id": "cPQbnpesOetc"
      },
      "source": [
        "### Pobieranie ofert Emerson"
      ]
    },
    {
      "cell_type": "code",
      "metadata": {
        "id": "1HreXPq1z-5c"
      },
      "source": [
        "df_emerson = of.pobierz_emerson()"
      ],
      "execution_count": null,
      "outputs": []
    },
    {
      "cell_type": "code",
      "metadata": {
        "id": "Wurw76KlS_YA"
      },
      "source": [
        "barn_emerson = of.tabela_BARN(df = df_emerson, nr_zrodla = '12p745', status_oferty = 2)\r\n",
        "barn_emerson.to_excel('emerson_BARN.xlsx', index = False)"
      ],
      "execution_count": 18,
      "outputs": []
    },
    {
      "cell_type": "markdown",
      "metadata": {
        "id": "irMD9ObgOjAc"
      },
      "source": [
        "### Pobieranie ofert od Duodom"
      ]
    },
    {
      "cell_type": "code",
      "metadata": {
        "id": "nk_Nh8Te0EV3"
      },
      "source": [
        "df_duodom = of.pobierz_duodom()"
      ],
      "execution_count": null,
      "outputs": []
    },
    {
      "cell_type": "code",
      "metadata": {
        "id": "wQenX7-YS_zI"
      },
      "source": [
        "barn_duodom = of.tabela_BARN(df = df_duodom, nr_zrodla = '12p2821', status_oferty = 2)\r\n",
        "barn_duodom.to_excel('duodom_BARN.xlsx', index = False)"
      ],
      "execution_count": 20,
      "outputs": []
    },
    {
      "cell_type": "markdown",
      "metadata": {
        "id": "62axh4vnOmGa"
      },
      "source": [
        "### Pobieranie ofert od Danax"
      ]
    },
    {
      "cell_type": "code",
      "metadata": {
        "id": "LOPTGJ2T0FlY"
      },
      "source": [
        "df_danax = of.pobierz_danax()"
      ],
      "execution_count": null,
      "outputs": []
    },
    {
      "cell_type": "code",
      "metadata": {
        "id": "jD-nDrp6TAg3"
      },
      "source": [
        "barn_danax = of.tabela_BARN(df = df_danax, nr_zrodla = '12p2827', status_oferty = 2)\r\n",
        "barn_danax.to_excel('danax_BARN.xlsx', index = False)"
      ],
      "execution_count": 23,
      "outputs": []
    },
    {
      "cell_type": "markdown",
      "metadata": {
        "id": "QBiNIiF7OtIe"
      },
      "source": [
        "### Pobieranie ofert od Tekton"
      ]
    },
    {
      "cell_type": "code",
      "metadata": {
        "id": "AJye_Ecx0IKB"
      },
      "source": [
        "df_tekton = of.pobierz_tekton()"
      ],
      "execution_count": null,
      "outputs": []
    },
    {
      "cell_type": "code",
      "metadata": {
        "id": "g7FkNzmYTA5J"
      },
      "source": [
        "barn_tekton = of.tabela_BARN(df = df_tekton, nr_zrodla = '12p4343', status_oferty = 2)\r\n",
        "barn_tekton.to_excel('tekton_BARN.xlsx', index = False)"
      ],
      "execution_count": 25,
      "outputs": []
    },
    {
      "cell_type": "markdown",
      "metadata": {
        "id": "rHJ3agfjOzQe"
      },
      "source": [
        "### Tabela zbiorcza BARN"
      ]
    },
    {
      "cell_type": "markdown",
      "metadata": {
        "id": "Ndk0Iikc1GEr"
      },
      "source": [
        "Analogicznie tworzy łączny zbiór ofert."
      ]
    },
    {
      "cell_type": "code",
      "metadata": {
        "id": "OfWr_VaAzEtY"
      },
      "source": [
        "barn_oferty = barn_emerson\r\n",
        "barn_oferty = barn_oferty.append(barn_petryla)\r\n",
        "barn_oferty = barn_oferty.append(barn_podgorze)\r\n",
        "barn_oferty = barn_oferty.append(barn_neodom)\r\n",
        "barn_oferty = barn_oferty.append(barn_polnoc)\r\n",
        "barn_oferty = barn_oferty.append(barn_metrohouse)\r\n",
        "barn_oferty = barn_oferty.append(barn_duodom)\r\n",
        "barn_oferty = barn_oferty.append(barn_danax)\r\n",
        "barn_oferty = barn_oferty.append(barn_tekton)\r\n",
        "barn_oferty = barn_oferty.reset_index()\r\n",
        "barn_oferty.to_excel('BARN_oferty.xlsx', index = False)"
      ],
      "execution_count": 29,
      "outputs": []
    },
    {
      "cell_type": "markdown",
      "metadata": {
        "id": "PgrT8SyVPDGW"
      },
      "source": [
        "### Surowy zbiór ofert"
      ]
    },
    {
      "cell_type": "markdown",
      "metadata": {
        "id": "82mBz_W17b-6"
      },
      "source": [
        "Ta część służy do zbierania nazw po których są identyfikowane elementy w tabelach. Dobrzę jest ją uaktualniać aby sprwadzić czy coś się zmieniło czy nie."
      ]
    },
    {
      "cell_type": "code",
      "metadata": {
        "id": "InTWJqLBwCUw"
      },
      "source": [
        "df_oferty = df_emerson\r\n",
        "df_oferty = df_oferty.append(df_petryla)\r\n",
        "df_oferty = df_oferty.append(df_podgorze)\r\n",
        "df_oferty = df_oferty.append(df_neodom)\r\n",
        "df_oferty = df_oferty.append(df_polnoc)\r\n",
        "df_oferty = df_oferty.append(df_metrohouse)\r\n",
        "df_oferty = df_oferty.append(df_duodom)\r\n",
        "df_oferty = df_oferty.append(df_danax)\r\n",
        "df_oferty = df_oferty.append(df_tekton)\r\n",
        "df_oferty = df_oferty.reset_index()\r\n",
        "df_oferty.to_excel('zbiór_ofert.xlsx', index = False)"
      ],
      "execution_count": null,
      "outputs": []
    },
    {
      "cell_type": "code",
      "metadata": {
        "id": "pQK-fZoezGzJ"
      },
      "source": [
        "nazwy = []\r\n",
        "[nazwy.extend(list(df_oferty.Tabela[i].keys())) for i in range(0, len(df_oferty.Tabela))]\r\n",
        "zbior_nazw = list(set(nazwy))\r\n",
        "zbiro_nazw = list(sorted(zbior_nazw))\r\n",
        "\r\n",
        "zbior_nazw = of.pd.Series(zbior_nazw)"
      ],
      "execution_count": 27,
      "outputs": []
    },
    {
      "cell_type": "code",
      "metadata": {
        "id": "UUj9SmP2_Xlr"
      },
      "source": [
        ""
      ],
      "execution_count": null,
      "outputs": []
    }
  ]
}