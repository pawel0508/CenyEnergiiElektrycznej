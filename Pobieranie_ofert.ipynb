{
  "nbformat": 4,
  "nbformat_minor": 0,
  "metadata": {
    "colab": {
      "name": "Untitled101.ipynb",
      "provenance": [],
      "authorship_tag": "ABX9TyMsQig3ai2EoQ7DkxQ4bnLd",
      "include_colab_link": true
    },
    "kernelspec": {
      "name": "python3",
      "display_name": "Python 3"
    }
  },
  "cells": [
    {
      "cell_type": "markdown",
      "metadata": {
        "id": "view-in-github",
        "colab_type": "text"
      },
      "source": [
        "<a href=\"https://colab.research.google.com/github/pawel0508/CenyEnergiiElektrycznej/blob/main/Pobieranie_ofert.ipynb\" target=\"_parent\"><img src=\"https://colab.research.google.com/assets/colab-badge.svg\" alt=\"Open In Colab\"/></a>"
      ]
    },
    {
      "cell_type": "code",
      "metadata": {
        "id": "4y856buEzyGg"
      },
      "source": [
        "import skryptclassof as of"
      ],
      "execution_count": 1,
      "outputs": []
    },
    {
      "cell_type": "code",
      "metadata": {
        "colab": {
          "base_uri": "https://localhost:8080/"
        },
        "id": "rlS27AKuz_Gb",
        "outputId": "614e870c-baef-420c-96af-59f104b2de39"
      },
      "source": [
        "df_petryla = of.pobierz_gratka()"
      ],
      "execution_count": 2,
      "outputs": [
        {
          "output_type": "stream",
          "text": [
            "Wybierz pośrednika (Petryla - 1, Podgórze - 2, Neodom - 3, Północ - 4): 1\n",
            "Wybierasz pośrednika: PETRYLA. Link: https://nieruchomoscipetryla.gratka.pl/nieruchomosci/mieszkania/krakow\n",
            "Wybierz rynek (Pierwotny - 1, Wtórny - 2): 2\n",
            "Podaj rodzaj ogłoszenia (Sprzedaż - 1, Wynajem - 2): 1\n",
            "Od której storny chcesz zacząć? Podaj numer strony: 1\n",
            "Do której strony chcesz pobrac? Podaj numer strony: 2\n",
            "https://nieruchomoscipetryla.gratka.pl/nieruchomosci/mieszkania/krakow/sprzedaz?page=1&rynek=wtorny\n",
            "Problem z adresem!\n",
            "https://nieruchomoscipetryla.gratka.pl/nieruchomosci/mieszkania/krakow/sprzedaz?page=2&rynek=wtorny\n",
            "Problem z adresem!\n"
          ],
          "name": "stdout"
        }
      ]
    },
    {
      "cell_type": "code",
      "metadata": {
        "id": "us0PlIC-LraO"
      },
      "source": [
        "barn_petryla = of.tabela_BARN(df = df_petryla, nr_zrodla = '12p19', status_oferty = 2)\r\n",
        "barn_petryla.to_excel('petryla_BARN.xlsx', index = False)"
      ],
      "execution_count": 3,
      "outputs": []
    },
    {
      "cell_type": "code",
      "metadata": {
        "id": "HMEo-aY6z_D1"
      },
      "source": [
        "df_podgorze = of.pobierz_gratka()"
      ],
      "execution_count": null,
      "outputs": []
    },
    {
      "cell_type": "code",
      "metadata": {
        "id": "kTFIsrZlMOXV"
      },
      "source": [
        "barn_podgorze = of.tabela_BARN(df = df_podgorze, nr_zrodla = '12p457', status_oferty = 2)\r\n",
        "barn_podgorze.to_excel('podgorze_BARN.xlsx', index = False)"
      ],
      "execution_count": 5,
      "outputs": []
    },
    {
      "cell_type": "code",
      "metadata": {
        "colab": {
          "base_uri": "https://localhost:8080/"
        },
        "id": "l0s4u_SbNTQy",
        "outputId": "b3206ae3-1478-45cd-deb9-4a3912cac5a1"
      },
      "source": [
        "df_neodom = of.pobierz_gratka()"
      ],
      "execution_count": 6,
      "outputs": [
        {
          "output_type": "stream",
          "text": [
            "Wybierz pośrednika (Petryla - 1, Podgórze - 2, Neodom - 3, Północ - 4): 3\n",
            "Wybierasz pośrednika: NEODOM. Link: https://neodom.gratka.pl/nieruchomosci/mieszkania/krakow\n",
            "Wybierz rynek (Pierwotny - 1, Wtórny - 2): 2\n",
            "Podaj rodzaj ogłoszenia (Sprzedaż - 1, Wynajem - 2): 1\n",
            "Od której storny chcesz zacząć? Podaj numer strony: 1\n",
            "Do której strony chcesz pobrac? Podaj numer strony: 3\n",
            "https://neodom.gratka.pl/nieruchomosci/mieszkania/krakow/sprzedaz?page=1&rynek=wtorny\n",
            "Problem z adresem!\n",
            "https://neodom.gratka.pl/nieruchomosci/mieszkania/krakow/sprzedaz?page=2&rynek=wtorny\n",
            "Problem z adresem!\n",
            "https://neodom.gratka.pl/nieruchomosci/mieszkania/krakow/sprzedaz?page=3&rynek=wtorny\n",
            "Problem z adresem!\n"
          ],
          "name": "stdout"
        }
      ]
    },
    {
      "cell_type": "code",
      "metadata": {
        "id": "z-IrHrI3Lq0e"
      },
      "source": [
        "barn_neodom = of.tabela_BARN(df = df_neodom, nr_zrodla = '12p2795', status_oferty = 2)\r\n",
        "barn_neodom.to_excel('neodom_BARN.xlsx', index = False)"
      ],
      "execution_count": 7,
      "outputs": []
    },
    {
      "cell_type": "code",
      "metadata": {
        "id": "MKOSVxDKHp2e"
      },
      "source": [
        "df_polnoc = of.pobierz_gratka()"
      ],
      "execution_count": null,
      "outputs": []
    },
    {
      "cell_type": "code",
      "metadata": {
        "id": "7eWI4oK1OdAr"
      },
      "source": [
        "barn_polnoc = of.tabela_BARN(df = df_polnoc, nr_zrodla = '12p1', status_oferty = 2)\r\n",
        "barn_polnoc.to_excel('polnoc_BARN.xlsx', index = False)"
      ],
      "execution_count": 5,
      "outputs": []
    },
    {
      "cell_type": "code",
      "metadata": {
        "id": "HxLhu5kyz_At"
      },
      "source": [
        "df_metrohouse = of.pobierz_metrohouse()"
      ],
      "execution_count": null,
      "outputs": []
    },
    {
      "cell_type": "code",
      "metadata": {
        "id": "JPdNWlhAS-4z"
      },
      "source": [
        "barn_metrohouse = of.tabela_BARN(df = df_metrohouse, nr_zrodla = '12p2247', status_oferty = 2)\r\n",
        "barn_metrohouse.to_excel('metrohouse_BARN.xlsx', index = False)"
      ],
      "execution_count": null,
      "outputs": []
    },
    {
      "cell_type": "code",
      "metadata": {
        "id": "1HreXPq1z-5c"
      },
      "source": [
        "df_emerson = of.pobierz_emerson()"
      ],
      "execution_count": null,
      "outputs": []
    },
    {
      "cell_type": "code",
      "metadata": {
        "id": "Wurw76KlS_YA"
      },
      "source": [
        "barn_emerson = of.tabela_BARN(df = df_emerson, nr_zrodla = '12p745', status_oferty = 2)\r\n",
        "barn_emerson.to_excel('emerson_BARN.xlsx', index = False)"
      ],
      "execution_count": null,
      "outputs": []
    },
    {
      "cell_type": "code",
      "metadata": {
        "id": "nk_Nh8Te0EV3"
      },
      "source": [
        "df_duodom = of.pobierz_duodom()"
      ],
      "execution_count": null,
      "outputs": []
    },
    {
      "cell_type": "code",
      "metadata": {
        "id": "wQenX7-YS_zI"
      },
      "source": [
        "barn_duodom = of.tabela_BARN(df = df_duodom, nr_zrodla = '12p2821', status_oferty = 2)\r\n",
        "barn_duodom.to_excel('duodom_BARN.xlsx', index = False)"
      ],
      "execution_count": null,
      "outputs": []
    },
    {
      "cell_type": "code",
      "metadata": {
        "id": "LOPTGJ2T0FlY"
      },
      "source": [
        "df_danax = of.pobierz_danax()"
      ],
      "execution_count": null,
      "outputs": []
    },
    {
      "cell_type": "code",
      "metadata": {
        "id": "jD-nDrp6TAg3"
      },
      "source": [
        "barn_danax = of.tabela_BARN(df = df_danax, nr_zrodla = '12p2827', status_oferty = 2)\r\n",
        "barn_danax.to_excel('danax_BARN.xlsx', index = False)"
      ],
      "execution_count": null,
      "outputs": []
    },
    {
      "cell_type": "code",
      "metadata": {
        "id": "AJye_Ecx0IKB"
      },
      "source": [
        "df_tekton = of.pobierz_tekton()"
      ],
      "execution_count": null,
      "outputs": []
    },
    {
      "cell_type": "code",
      "metadata": {
        "id": "g7FkNzmYTA5J"
      },
      "source": [
        "barn_tekton = of.tabela_BARN(df = df_tekton, nr_zrodla = '12p4343', status_oferty = 2)\r\n",
        "barn_tekton.to_excel('tekton_BARN.xlsx', index = False)"
      ],
      "execution_count": null,
      "outputs": []
    },
    {
      "cell_type": "code",
      "metadata": {
        "id": "OfWr_VaAzEtY"
      },
      "source": [
        "df_oferty = df_emerson\r\n",
        "df_oferty = df_oferty.append(df_petryla)\r\n",
        "df_oferty = df_oferty.append(df_podgorze)\r\n",
        "df_oferty = df_oferty.append(df_metrohouse)\r\n",
        "df_oferty = df_oferty.append(df_duodom)\r\n",
        "df_oferty = df_oferty.append(df_danax)\r\n",
        "df_oferty = df_oferty.append(df_tekton)\r\n",
        "df_oferty = df_oferty.reset_index()\r\n",
        "df_oferty.to_excel('zbiór_ofert.xlsx', index = False)"
      ],
      "execution_count": 24,
      "outputs": []
    },
    {
      "cell_type": "code",
      "metadata": {
        "id": "pQK-fZoezGzJ"
      },
      "source": [
        "nazwy = []\r\n",
        "[nazwy.extend(list(df_oferty.Tabela[i].keys())) for i in range(0, len(df_oferty.Tabela))]\r\n",
        "zbior_nazw = list(set(nazwy))\r\n",
        "zbiro_nazw = list(sorted(zbior_nazw))\r\n",
        "\r\n",
        "zbior_nazw = of.pd.Series(zbior_nazw)"
      ],
      "execution_count": 26,
      "outputs": []
    },
    {
      "cell_type": "code",
      "metadata": {
        "id": "4mMCX39TzInD"
      },
      "source": [
        "df = of.tabela_BARN(df = df_oferty, nr_zrodla = 'nnn-nnn', status_oferty = 2)\r\n",
        "df.to_excel('oferty_BARN.xlsx', index = False)"
      ],
      "execution_count": 27,
      "outputs": []
    },
    {
      "cell_type": "code",
      "metadata": {
        "id": "UUj9SmP2_Xlr"
      },
      "source": [
        ""
      ],
      "execution_count": null,
      "outputs": []
    }
  ]
}