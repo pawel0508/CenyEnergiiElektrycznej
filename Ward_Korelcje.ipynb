{
  "nbformat": 4,
  "nbformat_minor": 0,
  "metadata": {
    "colab": {
      "name": "Untitled75.ipynb",
      "provenance": [],
      "authorship_tag": "ABX9TyNYbixjSQKjkHzjC+eDh1vX",
      "include_colab_link": true
    },
    "kernelspec": {
      "name": "python3",
      "display_name": "Python 3"
    }
  },
  "cells": [
    {
      "cell_type": "markdown",
      "metadata": {
        "id": "view-in-github",
        "colab_type": "text"
      },
      "source": [
        "<a href=\"https://colab.research.google.com/github/pawel0508/CenyEnergiiElektrycznej/blob/main/Ward_Korelcje.ipynb\" target=\"_parent\"><img src=\"https://colab.research.google.com/assets/colab-badge.svg\" alt=\"Open In Colab\"/></a>"
      ]
    },
    {
      "cell_type": "code",
      "metadata": {
        "id": "KhvFdgQzX7Nz"
      },
      "source": [
        "import pandas as pd\n",
        "from scipy.cluster.hierarchy import dendrogram\n",
        "from scipy.cluster.hierarchy import linkage\n",
        "import matplotlib.pyplot as plt"
      ],
      "execution_count": 9,
      "outputs": []
    },
    {
      "cell_type": "code",
      "metadata": {
        "id": "WP2fw-1pYbqI"
      },
      "source": [
        "df_makro_raw = pd.read_csv('dane_makro.csv', sep =';')\n",
        "makro = df_makro_raw.copy()\n",
        "# print(makro.info())\n",
        "# print(makro.iloc[:,2:].head())\n",
        "makro = makro.iloc[:,2:]"
      ],
      "execution_count": 19,
      "outputs": []
    },
    {
      "cell_type": "code",
      "metadata": {
        "id": "9TFRsOD3eTVa"
      },
      "source": [
        "from sklearn.preprocessing import StandardScaler\n",
        "scaler = StandardScaler()\n",
        "makro_std = scaler.fit_transform(makro)"
      ],
      "execution_count": 29,
      "outputs": []
    },
    {
      "cell_type": "code",
      "metadata": {
        "id": "KigYeRjnYpyv",
        "outputId": "0b1e13c7-e322-4cd9-ac65-b8fbe02ed6fe",
        "colab": {
          "base_uri": "https://localhost:8080/",
          "height": 561
        }
      },
      "source": [
        "import matplotlib.pyplot as plt\n",
        "import matplotlib as mpl\n",
        "\n",
        "%matplotlib inline \n",
        "from scipy.cluster.hierarchy import ward, dendrogram\n",
        "\n",
        "linkage_matrix = ward(makro_std.T) #define the linkage_matrix using ward clustering pre-computed distances\n",
        "plt.figure(figsize = (20, 10))\n",
        "ax = dendrogram(linkage_matrix, orientation=\"top\",labels=makro.columns);"
      ],
      "execution_count": 42,
      "outputs": [
        {
          "output_type": "display_data",
          "data": {
            "image/png": "[encoded data removed]",
            "text/plain": [
              "<Figure size 1440x720 with 1 Axes>"
            ]
          },
          "metadata": {
            "tags": [],
            "needs_background": "light"
          }
        }
      ]
    },
    {
      "cell_type": "code",
      "metadata": {
        "id": "koR0_d8nfoPk"
      },
      "source": [
        "from sklearn.cluster import AgglomerativeClustering\n",
        "cluster = AgglomerativeClustering(n_clusters = 7, affinity = 'euclidean', linkage = 'ward')\n",
        "predict = cluster.fit_predict(makro_std.T)"
      ],
      "execution_count": 63,
      "outputs": []
    },
    {
      "cell_type": "code",
      "metadata": {
        "id": "cWhWJQfehvay"
      },
      "source": [
        "zmienne_etykiety = pd.DataFrame({'Zmienna' : makro.columns, 'Etykieta' : predict})"
      ],
      "execution_count": 64,
      "outputs": []
    },
    {
      "cell_type": "code",
      "metadata": {
        "id": "45dMti4gjKAZ"
      },
      "source": [
        "makro_opisy = pd.read_csv('Zmienna_opis_makro.csv', sep =';')\n"
      ],
      "execution_count": 65,
      "outputs": []
    },
    {
      "cell_type": "code",
      "metadata": {
        "id": "Hjt7BfbkjSlZ",
        "outputId": "c09e7b98-f2ab-47b8-a1dd-f633b5fdf66f",
        "colab": {
          "base_uri": "https://localhost:8080/",
          "height": 195
        }
      },
      "source": [
        "makro_opisy.head()"
      ],
      "execution_count": 66,
      "outputs": [
        {
          "output_type": "execute_result",
          "data": {
            "text/html": [
              "<div>\n",
              "<style scoped>\n",
              "    .dataframe tbody tr th:only-of-type {\n",
              "        vertical-align: middle;\n",
              "    }\n",
              "\n",
              "    .dataframe tbody tr th {\n",
              "        vertical-align: top;\n",
              "    }\n",
              "\n",
              "    .dataframe thead th {\n",
              "        text-align: right;\n",
              "    }\n",
              "</style>\n",
              "<table border=\"1\" class=\"dataframe\">\n",
              "  <thead>\n",
              "    <tr style=\"text-align: right;\">\n",
              "      <th></th>\n",
              "      <th>Zmienna</th>\n",
              "      <th>Opis</th>\n",
              "    </tr>\n",
              "  </thead>\n",
              "  <tbody>\n",
              "    <tr>\n",
              "      <th>0</th>\n",
              "      <td>A</td>\n",
              "      <td>Przeciętne zatrudnienie w sektorze przedsiębio...</td>\n",
              "    </tr>\n",
              "    <tr>\n",
              "      <th>1</th>\n",
              "      <td>B</td>\n",
              "      <td>Bezrobotni zarejestrowani (stan w końcu okresu)</td>\n",
              "    </tr>\n",
              "    <tr>\n",
              "      <th>2</th>\n",
              "      <td>C</td>\n",
              "      <td>Przeciętne miesięczne realne wynagrodzenie bru...</td>\n",
              "    </tr>\n",
              "    <tr>\n",
              "      <th>3</th>\n",
              "      <td>D</td>\n",
              "      <td>Przeciętna miesięczna nominalna emerytura i re...</td>\n",
              "    </tr>\n",
              "    <tr>\n",
              "      <th>4</th>\n",
              "      <td>E</td>\n",
              "      <td>Przeciętna miesięczna nominalna emerytura i re...</td>\n",
              "    </tr>\n",
              "  </tbody>\n",
              "</table>\n",
              "</div>"
            ],
            "text/plain": [
              "  Zmienna                                               Opis\n",
              "0       A  Przeciętne zatrudnienie w sektorze przedsiębio...\n",
              "1       B    Bezrobotni zarejestrowani (stan w końcu okresu)\n",
              "2       C  Przeciętne miesięczne realne wynagrodzenie bru...\n",
              "3       D  Przeciętna miesięczna nominalna emerytura i re...\n",
              "4       E  Przeciętna miesięczna nominalna emerytura i re..."
            ]
          },
          "metadata": {
            "tags": []
          },
          "execution_count": 66
        }
      ]
    },
    {
      "cell_type": "code",
      "metadata": {
        "id": "UhsGJJK7jUTZ"
      },
      "source": [
        "etykiety = pd.merge(zmienne_etykiety, makro_opisy, 'left').sort_values(by = 'Etykieta')"
      ],
      "execution_count": 129,
      "outputs": []
    },
    {
      "cell_type": "code",
      "metadata": {
        "id": "sVOMyS3zkTTS"
      },
      "source": [
        "korelacje = pd.read_csv('korelacje_makro_indeks_basic.csv', sep =',')"
      ],
      "execution_count": 130,
      "outputs": []
    },
    {
      "cell_type": "code",
      "metadata": {
        "id": "5om6oTd-mIM2"
      },
      "source": [
        "korelacje.columns = ['Zmienna', 'Korelacja_TGeBase']"
      ],
      "execution_count": 136,
      "outputs": []
    },
    {
      "cell_type": "code",
      "metadata": {
        "id": "pECaVymdmbtY"
      },
      "source": [
        "korelacje = korelacje[korelacje.Zmienna != 'wolumen ']"
      ],
      "execution_count": 137,
      "outputs": []
    },
    {
      "cell_type": "code",
      "metadata": {
        "id": "G4dcgJAmps1g"
      },
      "source": [
        "tabela = pd.merge(etykiety, korelacje, 'left').sort_values(by = ['Etykieta', 'Korelacja_TGeBase'])"
      ],
      "execution_count": 148,
      "outputs": []
    },
    {
      "cell_type": "code",
      "metadata": {
        "id": "6yrr2pcMp9Rc"
      },
      "source": [
        "tabela = tabela.reset_index().drop(columns = 'index')\n",
        "tabela.to_csv('TGeBase_etykiety_makro_korelacja.csv')"
      ],
      "execution_count": 192,
      "outputs": []
    },
    {
      "cell_type": "code",
      "metadata": {
        "id": "IAnO41W0q6OB"
      },
      "source": [
        "zmienne = tabela[abs(tabela.Korelacja_TGeBase) > 0.1].Zmienna\n"
      ],
      "execution_count": 193,
      "outputs": []
    },
    {
      "cell_type": "code",
      "metadata": {
        "id": "fEDyKytyrsiO",
        "outputId": "02437400-9976-48dd-8271-4e9aef9a7d9d",
        "colab": {
          "base_uri": "https://localhost:8080/",
          "height": 511
        }
      },
      "source": [
        "makro.corr().loc[zmienne, zmienne]"
      ],
      "execution_count": 194,
      "outputs": [
        {
          "output_type": "execute_result",
          "data": {
            "text/html": [
              "<div>\n",
              "<style scoped>\n",
              "    .dataframe tbody tr th:only-of-type {\n",
              "        vertical-align: middle;\n",
              "    }\n",
              "\n",
              "    .dataframe tbody tr th {\n",
              "        vertical-align: top;\n",
              "    }\n",
              "\n",
              "    .dataframe thead th {\n",
              "        text-align: right;\n",
              "    }\n",
              "</style>\n",
              "<table border=\"1\" class=\"dataframe\">\n",
              "  <thead>\n",
              "    <tr style=\"text-align: right;\">\n",
              "      <th></th>\n",
              "      <th>B</th>\n",
              "      <th>YY</th>\n",
              "      <th>Z</th>\n",
              "      <th>QQ</th>\n",
              "      <th>S</th>\n",
              "      <th>E</th>\n",
              "      <th>D</th>\n",
              "      <th>A</th>\n",
              "      <th>F</th>\n",
              "      <th>M</th>\n",
              "      <th>O</th>\n",
              "      <th>I</th>\n",
              "      <th>Y</th>\n",
              "      <th>T</th>\n",
              "      <th>W</th>\n",
              "    </tr>\n",
              "  </thead>\n",
              "  <tbody>\n",
              "    <tr>\n",
              "      <th>B</th>\n",
              "      <td>1.000000</td>\n",
              "      <td>0.051485</td>\n",
              "      <td>-0.040604</td>\n",
              "      <td>0.009829</td>\n",
              "      <td>-0.576722</td>\n",
              "      <td>-0.649436</td>\n",
              "      <td>-0.771105</td>\n",
              "      <td>-0.929370</td>\n",
              "      <td>0.021809</td>\n",
              "      <td>-0.021901</td>\n",
              "      <td>-0.128353</td>\n",
              "      <td>-0.177215</td>\n",
              "      <td>-0.360269</td>\n",
              "      <td>-0.662608</td>\n",
              "      <td>-0.480852</td>\n",
              "    </tr>\n",
              "    <tr>\n",
              "      <th>YY</th>\n",
              "      <td>0.051485</td>\n",
              "      <td>1.000000</td>\n",
              "      <td>0.050441</td>\n",
              "      <td>0.132833</td>\n",
              "      <td>0.009958</td>\n",
              "      <td>-0.194931</td>\n",
              "      <td>-0.144525</td>\n",
              "      <td>-0.021672</td>\n",
              "      <td>0.092025</td>\n",
              "      <td>0.027821</td>\n",
              "      <td>0.109288</td>\n",
              "      <td>0.100964</td>\n",
              "      <td>0.053661</td>\n",
              "      <td>0.152452</td>\n",
              "      <td>0.257592</td>\n",
              "    </tr>\n",
              "    <tr>\n",
              "      <th>Z</th>\n",
              "      <td>-0.040604</td>\n",
              "      <td>0.050441</td>\n",
              "      <td>1.000000</td>\n",
              "      <td>0.701644</td>\n",
              "      <td>-0.185572</td>\n",
              "      <td>-0.410083</td>\n",
              "      <td>-0.376510</td>\n",
              "      <td>-0.064906</td>\n",
              "      <td>-0.026052</td>\n",
              "      <td>-0.061124</td>\n",
              "      <td>0.235533</td>\n",
              "      <td>0.181264</td>\n",
              "      <td>0.405174</td>\n",
              "      <td>0.312427</td>\n",
              "      <td>0.524692</td>\n",
              "    </tr>\n",
              "    <tr>\n",
              "      <th>QQ</th>\n",
              "      <td>0.009829</td>\n",
              "      <td>0.132833</td>\n",
              "      <td>0.701644</td>\n",
              "      <td>1.000000</td>\n",
              "      <td>-0.360019</td>\n",
              "      <td>-0.411617</td>\n",
              "      <td>-0.328462</td>\n",
              "      <td>0.005190</td>\n",
              "      <td>-0.023459</td>\n",
              "      <td>-0.075201</td>\n",
              "      <td>-0.048568</td>\n",
              "      <td>-0.092617</td>\n",
              "      <td>0.432227</td>\n",
              "      <td>0.389019</td>\n",
              "      <td>0.482846</td>\n",
              "    </tr>\n",
              "    <tr>\n",
              "      <th>S</th>\n",
              "      <td>-0.576722</td>\n",
              "      <td>0.009958</td>\n",
              "      <td>-0.185572</td>\n",
              "      <td>-0.360019</td>\n",
              "      <td>1.000000</td>\n",
              "      <td>0.517858</td>\n",
              "      <td>0.561826</td>\n",
              "      <td>0.529953</td>\n",
              "      <td>-0.002857</td>\n",
              "      <td>0.050760</td>\n",
              "      <td>0.456188</td>\n",
              "      <td>0.536111</td>\n",
              "      <td>-0.135722</td>\n",
              "      <td>0.263597</td>\n",
              "      <td>0.138506</td>\n",
              "    </tr>\n",
              "    <tr>\n",
              "      <th>E</th>\n",
              "      <td>-0.649436</td>\n",
              "      <td>-0.194931</td>\n",
              "      <td>-0.410083</td>\n",
              "      <td>-0.411617</td>\n",
              "      <td>0.517858</td>\n",
              "      <td>1.000000</td>\n",
              "      <td>0.966641</td>\n",
              "      <td>0.710398</td>\n",
              "      <td>0.021617</td>\n",
              "      <td>0.108808</td>\n",
              "      <td>-0.049652</td>\n",
              "      <td>-0.103268</td>\n",
              "      <td>-0.044747</td>\n",
              "      <td>0.083602</td>\n",
              "      <td>0.003651</td>\n",
              "    </tr>\n",
              "    <tr>\n",
              "      <th>D</th>\n",
              "      <td>-0.771105</td>\n",
              "      <td>-0.144525</td>\n",
              "      <td>-0.376510</td>\n",
              "      <td>-0.328462</td>\n",
              "      <td>0.561826</td>\n",
              "      <td>0.966641</td>\n",
              "      <td>1.000000</td>\n",
              "      <td>0.821505</td>\n",
              "      <td>0.054407</td>\n",
              "      <td>0.122307</td>\n",
              "      <td>-0.033564</td>\n",
              "      <td>-0.048008</td>\n",
              "      <td>0.027882</td>\n",
              "      <td>0.252013</td>\n",
              "      <td>0.101360</td>\n",
              "    </tr>\n",
              "    <tr>\n",
              "      <th>A</th>\n",
              "      <td>-0.929370</td>\n",
              "      <td>-0.021672</td>\n",
              "      <td>-0.064906</td>\n",
              "      <td>0.005190</td>\n",
              "      <td>0.529953</td>\n",
              "      <td>0.710398</td>\n",
              "      <td>0.821505</td>\n",
              "      <td>1.000000</td>\n",
              "      <td>0.014087</td>\n",
              "      <td>0.009555</td>\n",
              "      <td>0.026495</td>\n",
              "      <td>0.049550</td>\n",
              "      <td>0.359464</td>\n",
              "      <td>0.643800</td>\n",
              "      <td>0.450946</td>\n",
              "    </tr>\n",
              "    <tr>\n",
              "      <th>F</th>\n",
              "      <td>0.021809</td>\n",
              "      <td>0.092025</td>\n",
              "      <td>-0.026052</td>\n",
              "      <td>-0.023459</td>\n",
              "      <td>-0.002857</td>\n",
              "      <td>0.021617</td>\n",
              "      <td>0.054407</td>\n",
              "      <td>0.014087</td>\n",
              "      <td>1.000000</td>\n",
              "      <td>0.832153</td>\n",
              "      <td>0.362384</td>\n",
              "      <td>0.172473</td>\n",
              "      <td>0.031299</td>\n",
              "      <td>0.004677</td>\n",
              "      <td>0.010915</td>\n",
              "    </tr>\n",
              "    <tr>\n",
              "      <th>M</th>\n",
              "      <td>-0.021901</td>\n",
              "      <td>0.027821</td>\n",
              "      <td>-0.061124</td>\n",
              "      <td>-0.075201</td>\n",
              "      <td>0.050760</td>\n",
              "      <td>0.108808</td>\n",
              "      <td>0.122307</td>\n",
              "      <td>0.009555</td>\n",
              "      <td>0.832153</td>\n",
              "      <td>1.000000</td>\n",
              "      <td>0.308660</td>\n",
              "      <td>0.181247</td>\n",
              "      <td>0.005264</td>\n",
              "      <td>-0.088031</td>\n",
              "      <td>0.039266</td>\n",
              "    </tr>\n",
              "    <tr>\n",
              "      <th>O</th>\n",
              "      <td>-0.128353</td>\n",
              "      <td>0.109288</td>\n",
              "      <td>0.235533</td>\n",
              "      <td>-0.048568</td>\n",
              "      <td>0.456188</td>\n",
              "      <td>-0.049652</td>\n",
              "      <td>-0.033564</td>\n",
              "      <td>0.026495</td>\n",
              "      <td>0.362384</td>\n",
              "      <td>0.308660</td>\n",
              "      <td>1.000000</td>\n",
              "      <td>0.853908</td>\n",
              "      <td>-0.112220</td>\n",
              "      <td>0.195269</td>\n",
              "      <td>0.190288</td>\n",
              "    </tr>\n",
              "    <tr>\n",
              "      <th>I</th>\n",
              "      <td>-0.177215</td>\n",
              "      <td>0.100964</td>\n",
              "      <td>0.181264</td>\n",
              "      <td>-0.092617</td>\n",
              "      <td>0.536111</td>\n",
              "      <td>-0.103268</td>\n",
              "      <td>-0.048008</td>\n",
              "      <td>0.049550</td>\n",
              "      <td>0.172473</td>\n",
              "      <td>0.181247</td>\n",
              "      <td>0.853908</td>\n",
              "      <td>1.000000</td>\n",
              "      <td>-0.186323</td>\n",
              "      <td>0.252397</td>\n",
              "      <td>0.208038</td>\n",
              "    </tr>\n",
              "    <tr>\n",
              "      <th>Y</th>\n",
              "      <td>-0.360269</td>\n",
              "      <td>0.053661</td>\n",
              "      <td>0.405174</td>\n",
              "      <td>0.432227</td>\n",
              "      <td>-0.135722</td>\n",
              "      <td>-0.044747</td>\n",
              "      <td>0.027882</td>\n",
              "      <td>0.359464</td>\n",
              "      <td>0.031299</td>\n",
              "      <td>0.005264</td>\n",
              "      <td>-0.112220</td>\n",
              "      <td>-0.186323</td>\n",
              "      <td>1.000000</td>\n",
              "      <td>0.438917</td>\n",
              "      <td>0.570907</td>\n",
              "    </tr>\n",
              "    <tr>\n",
              "      <th>T</th>\n",
              "      <td>-0.662608</td>\n",
              "      <td>0.152452</td>\n",
              "      <td>0.312427</td>\n",
              "      <td>0.389019</td>\n",
              "      <td>0.263597</td>\n",
              "      <td>0.083602</td>\n",
              "      <td>0.252013</td>\n",
              "      <td>0.643800</td>\n",
              "      <td>0.004677</td>\n",
              "      <td>-0.088031</td>\n",
              "      <td>0.195269</td>\n",
              "      <td>0.252397</td>\n",
              "      <td>0.438917</td>\n",
              "      <td>1.000000</td>\n",
              "      <td>0.639475</td>\n",
              "    </tr>\n",
              "    <tr>\n",
              "      <th>W</th>\n",
              "      <td>-0.480852</td>\n",
              "      <td>0.257592</td>\n",
              "      <td>0.524692</td>\n",
              "      <td>0.482846</td>\n",
              "      <td>0.138506</td>\n",
              "      <td>0.003651</td>\n",
              "      <td>0.101360</td>\n",
              "      <td>0.450946</td>\n",
              "      <td>0.010915</td>\n",
              "      <td>0.039266</td>\n",
              "      <td>0.190288</td>\n",
              "      <td>0.208038</td>\n",
              "      <td>0.570907</td>\n",
              "      <td>0.639475</td>\n",
              "      <td>1.000000</td>\n",
              "    </tr>\n",
              "  </tbody>\n",
              "</table>\n",
              "</div>"
            ],
            "text/plain": [
              "           B        YY         Z  ...         Y         T         W\n",
              "B   1.000000  0.051485 -0.040604  ... -0.360269 -0.662608 -0.480852\n",
              "YY  0.051485  1.000000  0.050441  ...  0.053661  0.152452  0.257592\n",
              "Z  -0.040604  0.050441  1.000000  ...  0.405174  0.312427  0.524692\n",
              "QQ  0.009829  0.132833  0.701644  ...  0.432227  0.389019  0.482846\n",
              "S  -0.576722  0.009958 -0.185572  ... -0.135722  0.263597  0.138506\n",
              "E  -0.649436 -0.194931 -0.410083  ... -0.044747  0.083602  0.003651\n",
              "D  -0.771105 -0.144525 -0.376510  ...  0.027882  0.252013  0.101360\n",
              "A  -0.929370 -0.021672 -0.064906  ...  0.359464  0.643800  0.450946\n",
              "F   0.021809  0.092025 -0.026052  ...  0.031299  0.004677  0.010915\n",
              "M  -0.021901  0.027821 -0.061124  ...  0.005264 -0.088031  0.039266\n",
              "O  -0.128353  0.109288  0.235533  ... -0.112220  0.195269  0.190288\n",
              "I  -0.177215  0.100964  0.181264  ... -0.186323  0.252397  0.208038\n",
              "Y  -0.360269  0.053661  0.405174  ...  1.000000  0.438917  0.570907\n",
              "T  -0.662608  0.152452  0.312427  ...  0.438917  1.000000  0.639475\n",
              "W  -0.480852  0.257592  0.524692  ...  0.570907  0.639475  1.000000\n",
              "\n",
              "[15 rows x 15 columns]"
            ]
          },
          "metadata": {
            "tags": []
          },
          "execution_count": 194
        }
      ]
    },
    {
      "cell_type": "code",
      "metadata": {
        "id": "jTA8skbruon6",
        "outputId": "fc4e1e22-55d3-4db6-b06c-fef54e0c2578",
        "colab": {
          "base_uri": "https://localhost:8080/",
          "height": 491
        }
      },
      "source": [
        "tabela.iloc[zmienne.index]\n",
        "\n",
        "#tabela"
      ],
      "execution_count": 211,
      "outputs": [
        {
          "output_type": "execute_result",
          "data": {
            "text/html": [
              "<div>\n",
              "<style scoped>\n",
              "    .dataframe tbody tr th:only-of-type {\n",
              "        vertical-align: middle;\n",
              "    }\n",
              "\n",
              "    .dataframe tbody tr th {\n",
              "        vertical-align: top;\n",
              "    }\n",
              "\n",
              "    .dataframe thead th {\n",
              "        text-align: right;\n",
              "    }\n",
              "</style>\n",
              "<table border=\"1\" class=\"dataframe\">\n",
              "  <thead>\n",
              "    <tr style=\"text-align: right;\">\n",
              "      <th></th>\n",
              "      <th>Zmienna</th>\n",
              "      <th>Etykieta</th>\n",
              "      <th>Opis</th>\n",
              "      <th>Korelacja_TGeBase</th>\n",
              "    </tr>\n",
              "  </thead>\n",
              "  <tbody>\n",
              "    <tr>\n",
              "      <th>0</th>\n",
              "      <td>B</td>\n",
              "      <td>0</td>\n",
              "      <td>Bezrobotni zarejestrowani (stan w końcu okresu)</td>\n",
              "      <td>-0.541197</td>\n",
              "    </tr>\n",
              "    <tr>\n",
              "      <th>1</th>\n",
              "      <td>YY</td>\n",
              "      <td>0</td>\n",
              "      <td>działalność finansowa i ubezpieczeniowa</td>\n",
              "      <td>0.146763</td>\n",
              "    </tr>\n",
              "    <tr>\n",
              "      <th>5</th>\n",
              "      <td>Z</td>\n",
              "      <td>1</td>\n",
              "      <td>handel; naprawa pojazdów samochodowych∆,l</td>\n",
              "      <td>0.107559</td>\n",
              "    </tr>\n",
              "    <tr>\n",
              "      <th>6</th>\n",
              "      <td>QQ</td>\n",
              "      <td>1</td>\n",
              "      <td>zakwaterowanie i gastronomia∆</td>\n",
              "      <td>0.133921</td>\n",
              "    </tr>\n",
              "    <tr>\n",
              "      <th>7</th>\n",
              "      <td>S</td>\n",
              "      <td>2</td>\n",
              "      <td>Mieszkania oddane do użytkowania</td>\n",
              "      <td>0.326339</td>\n",
              "    </tr>\n",
              "    <tr>\n",
              "      <th>8</th>\n",
              "      <td>E</td>\n",
              "      <td>2</td>\n",
              "      <td>Przeciętna miesięczna nominalna emerytura i re...</td>\n",
              "      <td>0.335772</td>\n",
              "    </tr>\n",
              "    <tr>\n",
              "      <th>9</th>\n",
              "      <td>D</td>\n",
              "      <td>2</td>\n",
              "      <td>Przeciętna miesięczna nominalna emerytura i re...</td>\n",
              "      <td>0.442157</td>\n",
              "    </tr>\n",
              "    <tr>\n",
              "      <th>10</th>\n",
              "      <td>A</td>\n",
              "      <td>2</td>\n",
              "      <td>Przeciętne zatrudnienie w sektorze przedsiębio...</td>\n",
              "      <td>0.533285</td>\n",
              "    </tr>\n",
              "    <tr>\n",
              "      <th>19</th>\n",
              "      <td>F</td>\n",
              "      <td>4</td>\n",
              "      <td>Produkcja sprzedana przemysłu ogółema,e,f (cen...</td>\n",
              "      <td>0.102926</td>\n",
              "    </tr>\n",
              "    <tr>\n",
              "      <th>20</th>\n",
              "      <td>M</td>\n",
              "      <td>4</td>\n",
              "      <td>dobra konsumpcyjne trwałe</td>\n",
              "      <td>0.138595</td>\n",
              "    </tr>\n",
              "    <tr>\n",
              "      <th>21</th>\n",
              "      <td>O</td>\n",
              "      <td>5</td>\n",
              "      <td>dobra związane z energią</td>\n",
              "      <td>0.118504</td>\n",
              "    </tr>\n",
              "    <tr>\n",
              "      <th>22</th>\n",
              "      <td>I</td>\n",
              "      <td>5</td>\n",
              "      <td>wytwarzanie i zaopatrywanie w energię elektryc...</td>\n",
              "      <td>0.152505</td>\n",
              "    </tr>\n",
              "    <tr>\n",
              "      <th>23</th>\n",
              "      <td>Y</td>\n",
              "      <td>6</td>\n",
              "      <td>budownictwo</td>\n",
              "      <td>0.275270</td>\n",
              "    </tr>\n",
              "    <tr>\n",
              "      <th>24</th>\n",
              "      <td>T</td>\n",
              "      <td>6</td>\n",
              "      <td>Bieżący wskaźnik ufności konsumenckiej (BWUK)</td>\n",
              "      <td>0.363785</td>\n",
              "    </tr>\n",
              "    <tr>\n",
              "      <th>25</th>\n",
              "      <td>W</td>\n",
              "      <td>6</td>\n",
              "      <td>Wyprzedzający wskaźnik ufności konsumenckiej (...</td>\n",
              "      <td>0.383398</td>\n",
              "    </tr>\n",
              "  </tbody>\n",
              "</table>\n",
              "</div>"
            ],
            "text/plain": [
              "   Zmienna  ...  Korelacja_TGeBase\n",
              "0        B  ...          -0.541197\n",
              "1       YY  ...           0.146763\n",
              "5        Z  ...           0.107559\n",
              "6       QQ  ...           0.133921\n",
              "7        S  ...           0.326339\n",
              "8        E  ...           0.335772\n",
              "9        D  ...           0.442157\n",
              "10       A  ...           0.533285\n",
              "19       F  ...           0.102926\n",
              "20       M  ...           0.138595\n",
              "21       O  ...           0.118504\n",
              "22       I  ...           0.152505\n",
              "23       Y  ...           0.275270\n",
              "24       T  ...           0.363785\n",
              "25       W  ...           0.383398\n",
              "\n",
              "[15 rows x 4 columns]"
            ]
          },
          "metadata": {
            "tags": []
          },
          "execution_count": 211
        }
      ]
    }
  ]
}